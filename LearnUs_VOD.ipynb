{
 "cells": [
  {
   "cell_type": "code",
   "execution_count": 1,
   "metadata": {
    "colab": {
     "base_uri": "https://localhost:8080/"
    },
    "id": "gnhfMHIv_ixI",
    "outputId": "dd48746e-f84f-4829-f793-3598969d9f86",
    "pycharm": {
     "is_executing": true,
     "name": "#%%\n"
    }
   },
   "outputs": [
    {
     "name": "stdout",
     "output_type": "stream",
     "text": [
      "Requirement already satisfied: m3u8 in c:\\users\\ashgo\\anaconda3\\lib\\site-packages (3.4.0)\n",
      "Requirement already satisfied: iso8601 in c:\\users\\ashgo\\anaconda3\\lib\\site-packages (from m3u8) (1.1.0)\n",
      "Note: you may need to restart the kernel to use updated packages.\n",
      "Requirement already satisfied: pycryptodome in c:\\users\\ashgo\\anaconda3\\lib\\site-packages (3.17)\n",
      "Note: you may need to restart the kernel to use updated packages.\n",
      "Requirement already satisfied: python-slugify==8.0.1 in c:\\users\\ashgo\\anaconda3\\lib\\site-packages (8.0.1)\n",
      "Requirement already satisfied: text-unidecode>=1.3 in c:\\users\\ashgo\\anaconda3\\lib\\site-packages (from python-slugify==8.0.1) (1.3)\n",
      "Note: you may need to restart the kernel to use updated packages.\n"
     ]
    }
   ],
   "source": [
    "%pip install m3u8\n",
    "%pip install pycryptodome\n",
    "%pip install python-slugify==8.0.1"
   ]
  },
  {
   "cell_type": "code",
   "execution_count": 2,
   "metadata": {
    "id": "3Yyiobf9_X6T",
    "pycharm": {
     "name": "#%%\n"
    }
   },
   "outputs": [],
   "source": [
    "import m3u8\n",
    "import requests\n",
    "from Crypto.Util.Padding import pad\n",
    "from Crypto.Cipher import AES\n",
    "import requests\n",
    "from tqdm import tqdm\n",
    "import binascii\n",
    "from http.cookies import SimpleCookie\n",
    "from bs4 import BeautifulSoup\n",
    "import re\n",
    "from slugify import slugify"
   ]
  },
  {
   "cell_type": "code",
   "execution_count": 17,
   "metadata": {
    "id": "VH4F-CZr_cC9",
    "pycharm": {
     "name": "#%%\n"
    }
   },
   "outputs": [],
   "source": [
    "\n",
    "def get_input():\n",
    "    \"\"\"\n",
    "    get url, video file name from user\n",
    "    :return: raw_url(ends with \".mp4\" or \".ts\"), file_name(ends with \".mp4\")\n",
    "    \"\"\"\n",
    "    raw_url = input(\"enter the url you copied from the browser (ex. https://.../segment-1-v1-a1.ts) : \")\n",
    "    file_name = input(\"enter the name of the video file will be downloaded (ex. video.mp4) : \")\n",
    "    if file_name[-4:] != \".mp4\":\n",
    "        file_name += \".mp4\"\n",
    "    return raw_url, file_name\n",
    "\n",
    "def get_base_url(raw_url):\n",
    "    \"\"\"\n",
    "    truncate .ts segment\n",
    "    :param raw_url: input url from user\n",
    "    :return: base_url(ends with \"mp4\")\n",
    "    \"\"\"\n",
    "    if \".ts\" in raw_url:\n",
    "        raw_url = \"/\".join(raw_url.split(\"/\")[:-1])\n",
    "    print(raw_url)\n",
    "    return raw_url\n",
    "\n",
    "def get_playlist(base_url):\n",
    "    \"\"\"\n",
    "    fetch a playlist from base_url\n",
    "    :param base_url: truncated url\n",
    "    :return: m3u8 playlist object\n",
    "    \"\"\"\n",
    "    tmp_playlist = m3u8.load(uri=base_url+\"/index.m3u8\")\n",
    "    return tmp_playlist\n",
    "\n",
    "def decrypt_video(encrypted_data, key, iv):\n",
    "    \"\"\"\n",
    "    as a .ts file is encrypted with AES-128 (CBC) algorithm, decrypt it using pycryptodome\n",
    "    :param encrypted_data: .ts file data\n",
    "    :param key: fetched .key file\n",
    "    :param iv: sequence number (iv is not specified)\n",
    "    :return: decrypted segment\n",
    "    \"\"\"\n",
    "    encrypted_data = pad(data_to_pad=encrypted_data, block_size=AES.block_size)\n",
    "    aes = AES.new(key=key, mode=AES.MODE_CBC, iv=iv)\n",
    "    decrypted_data = aes.decrypt(encrypted_data)\n",
    "    return decrypted_data\n",
    "\n",
    "def binify(x):\n",
    "    \"\"\"\n",
    "    convert sequence number(int) to 128bit representation for AES-128 decryption\n",
    "    \"\"\"\n",
    "    h = hex(x)[2:].rstrip('L')\n",
    "    return binascii.unhexlify('0'*(32-len(h))+h)\n",
    "\n",
    "\n",
    "def get_soup(lecture_url, cookie_str):\n",
    "    cookie = SimpleCookie()\n",
    "    cookie.load(cookie_str)\n",
    "    cookies = {k: v.value for k, v in cookie.items()}\n",
    "    resp = requests.get(lecture_url, cookies=cookies)\n",
    "    soup = BeautifulSoup(resp.text, 'html.parser') if resp is not None else None\n",
    "    return soup\n",
    "\n",
    "def download_video(uri, file_name):\n",
    "    playlist = m3u8.load(uri=uri)\n",
    "    key = requests.get(playlist.keys[-1].absolute_uri).content\n",
    "    seq_len = len(playlist.segments)\n",
    "    for i in tqdm(range(seq_len)):\n",
    "        seg = playlist.segments[i]\n",
    "        data = requests.get(seg.absolute_uri).content\n",
    "        iv = binify(i+1)\n",
    "        data = decrypt_video(data, key, iv)\n",
    "        with open(file_name,\"ab\" if i != 0 else \"wb\") as f:\n",
    "            f.write(data)\n",
    "\n",
    "def get_vod_list(lecture_soup, cookie_str):\n",
    "    vod_list = []\n",
    "    for li in tqdm(lecture_soup.find_all(\"li\", {\"class\": \"vod\"})):\n",
    "        a = li.find('a')\n",
    "        video_name = a.find(\"span\", {\"class\":\"instancename\"}).text\n",
    "        viewer_url = re.search(\"window.open\\(\\'(.+?)\\',\", a['onclick']).group(1)\n",
    "        vod_soup = get_soup(viewer_url, cookie_str)\n",
    "        if vod_soup is not None:\n",
    "            source = vod_soup.find(\"source\")\n",
    "            if source is not None:\n",
    "                video_url = source[\"src\"]\n",
    "                vod_list.append({'name': video_name, 'url': video_url})\n",
    "    return vod_list\n"
   ]
  },
  {
   "cell_type": "code",
   "execution_count": 29,
   "metadata": {},
   "outputs": [],
   "source": [
    "cookie_str = input (\"Enter cookie string:\") \n",
    "lecture_url = input(\"Enter Lecture URL : \") \n",
    "lecture_soup = get_soup(lecture_url, cookie_str)\n",
    "if lecture_soup is not None:\n",
    "    vod_list = get_vod_list(lecture_soup, cookie_str)\n"
   ]
  },
  {
   "cell_type": "code",
   "execution_count": 30,
   "metadata": {
    "id": "gJp3IGQKBNFb",
    "pycharm": {
     "name": "#%%\n"
    }
   },
   "outputs": [],
   "source": [
    "# cookie_str = '_gcl_au=1.1.1450246283.1677722439; au_id=254dbcf42af70e0817e5981417f2bc828e5-613c; _gid=GA1.2.597159178.1678320723; ubboard_read=O%CF%0B%00e%12%93%81%A6%DF%13%A2P%0D; hide_menu=/mod/quiz,/mod/assign,/mod/vod,/mod/econtents; _gat_UA-160620709-35=1; MoodleSession=c61t326i6kb4i7c0gk3a5pb40v; _ga_M9Z4NCPPY6=GS1.1.1678403564.277.1.1678403568.0.0.0; login_check=true; _ga=GA1.2.358086843.1645707131'\n",
    "# lecture_url = \"https://ys.learnus.org/course/view.php?id=229677\"\n",
    "\n"
   ]
  },
  {
   "cell_type": "code",
   "execution_count": 27,
   "metadata": {
    "colab": {
     "base_uri": "https://localhost:8080/"
    },
    "id": "WV8TN-VsF6n3",
    "outputId": "3a773629-0c93-4d8e-fec6-cac798bbe43a",
    "pycharm": {
     "name": "#%%\n"
    }
   },
   "outputs": [
    {
     "name": "stderr",
     "output_type": "stream",
     "text": [
      "100%|██████████| 29/29 [00:04<00:00,  6.16it/s]\n"
     ]
    }
   ],
   "source": [
    "vod_list = []\n",
    "for li in tqdm(soup.find_all(\"li\", {\"class\": \"vod\"})):\n",
    "    a = li.find('a')\n",
    "    video_name = a.find(\"span\", {\"class\":\"instancename\"}).text\n",
    "    viewer_url = re.search(\"window.open\\(\\'(.+?)\\',\", a['onclick']).group(1)\n",
    "    vod_soup = get_soup(viewer_url, cookie_str)\n",
    "    if vod_soup is not None:\n",
    "        source = vod_soup.find(\"source\")\n",
    "        if source is not None:\n",
    "            video_url = source[\"src\"]\n",
    "            vod_list.append({'name': video_name, 'url': video_url})\n"
   ]
  },
  {
   "cell_type": "code",
   "execution_count": 28,
   "metadata": {
    "colab": {
     "base_uri": "https://localhost:8080/",
     "height": 702,
     "referenced_widgets": [
      "5bcfcb0e642344a6af342fb5bfedfb4f",
      "c9f334313e334a43b5e366c4d2387740",
      "375c82bc314c4954be9694aee8f3b38c",
      "bb0c5abb8a1a4e29bc114fbc7582363b",
      "a109d101916f4ae7bbc74518c21eb337",
      "5e52150f017e49a4ab657ac4f1f1053f",
      "f23ef5faf07d423cbff9ad72789068aa",
      "f616115247f04973b094ac8c368a25bc",
      "045a657ab8c943649e0fd698e68ccca2",
      "56edf8be27c7409a94e2ca710620f4a2",
      "bb89e32d3b7a4e2387b2f1c55d02338a",
      "9cf6100d72284264bdad7190829ee282",
      "dc4c932c674b4242986337401627199b",
      "dea9058f69194b05a3da4dec847c50aa",
      "8e3010e4ecd04f35b85bb01411012648",
      "1ed12aeeeade4a65b3dadfc3dbc404fa",
      "79a5619f42c4463eaba19ca79b8a2b07",
      "82128ada3e704399bd6aa29695104ad6",
      "07ad9503e74b4c7a889980b577c1997e",
      "04d81d11cca441ceb38ff9bef582656f",
      "632e51bc21294db1a4ee863b956ed096",
      "b8aafbdc0bfd468a9364be8a6de962f1",
      "e642299e7d38456da8acbadc4d548e91",
      "83bbb8363c8b4f81ac85d6d4636cbc90",
      "d8a0ee46ffa14ab3a0e5e2d62877ac77",
      "25ce86436ba94db4ad646e662f1dc839",
      "cb358cf00336494bac389b7a65b2a4cf",
      "eb70e7384a2a4e48995a22e7ec76c2cf",
      "9475e11e600b4b05be9c27fafe56d2ad",
      "6f1aba94f6eb4d8a98c8e615b26fa3b4",
      "50ac0ec165374a95ae7d640b604bcc85",
      "e10f6b680db244b69fc0a4e07a4989dd",
      "9c7e7624e03f474ba049befc8d9c8cc1",
      "5d73baa67c7f4eb191e90bc2af53ce02",
      "2bc0e3fd569b402494e63822b14ad0dc",
      "290b2919eccb48c7babdcef8a359c426",
      "d9db887d9ff546818f8fe5937ae38b72",
      "4665168da4c6458fb2e08d622402eeca",
      "f25cdd8ebeca4655aa8b4749cbe1ece6",
      "00e38d6505c343c6a45a719edee367dc",
      "e611f73011d94109bfe93de088fa9106",
      "6aa5f31495de4b4fa0159b41c16550f9",
      "7225598f3baa4391a2ab98fd0d14f4b4",
      "b0cc03964d6d4dfd9bd05f9b2648d7bd",
      "912819013dfb450db20fb048ff3d538b",
      "d6d779b187f54b3caa16adf7cff70e91",
      "13407b6bc8c44607a53e5a609df0884a",
      "ebffe75cafeb44f79e5194a257fe8f75",
      "82ce0f829c0c4f8581165cffb73e6099",
      "926b23a6e964432990cafcab22810f6f",
      "ef78970b8c904d94aafab86201a591da",
      "2adeb088be2143f9bc5f2990dbb8b55f",
      "d90faf5e0b094d798af75c76b197a1f1",
      "9e1e148966c14c62b48bbc7187cdc073",
      "5a3d61dbad714d0d83acf6df28fd979e",
      "2a13a3aadec2487cb9098500ecd5df1a",
      "b466df43d2a249d096222113c88605a0",
      "e6cb1ed7112b42bf946844090c8f1df2",
      "d0d17db6982f452391d3413ec100ba0b",
      "d29706e87ca845029934ac156bc4a56e"
     ]
    },
    "id": "tMKPCJhMyAsI",
    "outputId": "db8e67b6-562a-4e31-e83d-ae6a326cfa13",
    "pycharm": {
     "name": "#%%\n"
    }
   },
   "outputs": [
    {
     "data": {
      "application/vnd.jupyter.widget-view+json": {
       "model_id": "28f4d1bd76574c2daf509b5a57f6f744",
       "version_major": 2,
       "version_minor": 0
      },
      "text/plain": [
       "Checkbox(value=True, description='[CSI4116] Intro to Computer Vision - Lecture 1 동영상', indent=False, layout=La…"
      ]
     },
     "metadata": {},
     "output_type": "display_data"
    },
    {
     "data": {
      "application/vnd.jupyter.widget-view+json": {
       "model_id": "dcdac21eed4e44ccb42bed12588bd4f7",
       "version_major": 2,
       "version_minor": 0
      },
      "text/plain": [
       "Output()"
      ]
     },
     "metadata": {},
     "output_type": "display_data"
    },
    {
     "data": {
      "application/vnd.jupyter.widget-view+json": {
       "model_id": "63a855d55578486e95d637dcb9e70ce1",
       "version_major": 2,
       "version_minor": 0
      },
      "text/plain": [
       "Checkbox(value=True, description='[CSI4116] Intro to Computer Vision - Lecture 2 동영상', indent=False, layout=La…"
      ]
     },
     "metadata": {},
     "output_type": "display_data"
    },
    {
     "data": {
      "application/vnd.jupyter.widget-view+json": {
       "model_id": "dcdac21eed4e44ccb42bed12588bd4f7",
       "version_major": 2,
       "version_minor": 0
      },
      "text/plain": [
       "Output()"
      ]
     },
     "metadata": {},
     "output_type": "display_data"
    },
    {
     "data": {
      "application/vnd.jupyter.widget-view+json": {
       "model_id": "5858edd354274a8cad8d3a74896ac961",
       "version_major": 2,
       "version_minor": 0
      },
      "text/plain": [
       "Checkbox(value=True, description='[CSI4116] Intro to Computer Vision - Lecture 3 동영상', indent=False, layout=La…"
      ]
     },
     "metadata": {},
     "output_type": "display_data"
    },
    {
     "data": {
      "application/vnd.jupyter.widget-view+json": {
       "model_id": "dcdac21eed4e44ccb42bed12588bd4f7",
       "version_major": 2,
       "version_minor": 0
      },
      "text/plain": [
       "Output()"
      ]
     },
     "metadata": {},
     "output_type": "display_data"
    },
    {
     "data": {
      "application/vnd.jupyter.widget-view+json": {
       "model_id": "da15df02d5084e699d810b133a2b4c0f",
       "version_major": 2,
       "version_minor": 0
      },
      "text/plain": [
       "Checkbox(value=True, description='[CSI4116] Intro to Computer Vision - Lecture 6 동영상', indent=False, layout=La…"
      ]
     },
     "metadata": {},
     "output_type": "display_data"
    },
    {
     "data": {
      "application/vnd.jupyter.widget-view+json": {
       "model_id": "dcdac21eed4e44ccb42bed12588bd4f7",
       "version_major": 2,
       "version_minor": 0
      },
      "text/plain": [
       "Output()"
      ]
     },
     "metadata": {},
     "output_type": "display_data"
    },
    {
     "data": {
      "application/vnd.jupyter.widget-view+json": {
       "model_id": "8f548e55adc94015a162b961de97613b",
       "version_major": 2,
       "version_minor": 0
      },
      "text/plain": [
       "Checkbox(value=True, description='[CSI4116] Intro to Computer Vision - Lecture 7 동영상', indent=False, layout=La…"
      ]
     },
     "metadata": {},
     "output_type": "display_data"
    },
    {
     "data": {
      "application/vnd.jupyter.widget-view+json": {
       "model_id": "dcdac21eed4e44ccb42bed12588bd4f7",
       "version_major": 2,
       "version_minor": 0
      },
      "text/plain": [
       "Output()"
      ]
     },
     "metadata": {},
     "output_type": "display_data"
    },
    {
     "data": {
      "application/vnd.jupyter.widget-view+json": {
       "model_id": "a040b35d81db4fba8587ea6ac83af504",
       "version_major": 2,
       "version_minor": 0
      },
      "text/plain": [
       "Checkbox(value=True, description='[CSI4116] Intro to Computer Vision - Lecture 8 동영상', indent=False, layout=La…"
      ]
     },
     "metadata": {},
     "output_type": "display_data"
    },
    {
     "data": {
      "application/vnd.jupyter.widget-view+json": {
       "model_id": "dcdac21eed4e44ccb42bed12588bd4f7",
       "version_major": 2,
       "version_minor": 0
      },
      "text/plain": [
       "Output()"
      ]
     },
     "metadata": {},
     "output_type": "display_data"
    },
    {
     "data": {
      "application/vnd.jupyter.widget-view+json": {
       "model_id": "af80809b5a2a405e9a8aeef88cf58e27",
       "version_major": 2,
       "version_minor": 0
      },
      "text/plain": [
       "Checkbox(value=True, description='[CSI4116] Intro to Computer Vision - Lecture 9 동영상', indent=False, layout=La…"
      ]
     },
     "metadata": {},
     "output_type": "display_data"
    },
    {
     "data": {
      "application/vnd.jupyter.widget-view+json": {
       "model_id": "dcdac21eed4e44ccb42bed12588bd4f7",
       "version_major": 2,
       "version_minor": 0
      },
      "text/plain": [
       "Output()"
      ]
     },
     "metadata": {},
     "output_type": "display_data"
    },
    {
     "data": {
      "application/vnd.jupyter.widget-view+json": {
       "model_id": "5d9853b11dc942a1a24fe57388d176b5",
       "version_major": 2,
       "version_minor": 0
      },
      "text/plain": [
       "Checkbox(value=True, description='[CSI4116] Intro to Computer Vision - Lecture 10 동영상', indent=False, layout=L…"
      ]
     },
     "metadata": {},
     "output_type": "display_data"
    },
    {
     "data": {
      "application/vnd.jupyter.widget-view+json": {
       "model_id": "dcdac21eed4e44ccb42bed12588bd4f7",
       "version_major": 2,
       "version_minor": 0
      },
      "text/plain": [
       "Output()"
      ]
     },
     "metadata": {},
     "output_type": "display_data"
    },
    {
     "data": {
      "application/vnd.jupyter.widget-view+json": {
       "model_id": "d4cd2624e76e4b31ad7b40cbb2ba8960",
       "version_major": 2,
       "version_minor": 0
      },
      "text/plain": [
       "Checkbox(value=True, description='[CSI4116] Intro to Computer Vision - Lecture 11 동영상', indent=False, layout=L…"
      ]
     },
     "metadata": {},
     "output_type": "display_data"
    },
    {
     "data": {
      "application/vnd.jupyter.widget-view+json": {
       "model_id": "dcdac21eed4e44ccb42bed12588bd4f7",
       "version_major": 2,
       "version_minor": 0
      },
      "text/plain": [
       "Output()"
      ]
     },
     "metadata": {},
     "output_type": "display_data"
    },
    {
     "data": {
      "application/vnd.jupyter.widget-view+json": {
       "model_id": "9e39d4779fe24a14bd3bcff89e34af16",
       "version_major": 2,
       "version_minor": 0
      },
      "text/plain": [
       "Checkbox(value=True, description='[CSI4116] Intro to Computer Vision - Lecture 12 동영상', indent=False, layout=L…"
      ]
     },
     "metadata": {},
     "output_type": "display_data"
    },
    {
     "data": {
      "application/vnd.jupyter.widget-view+json": {
       "model_id": "dcdac21eed4e44ccb42bed12588bd4f7",
       "version_major": 2,
       "version_minor": 0
      },
      "text/plain": [
       "Output()"
      ]
     },
     "metadata": {},
     "output_type": "display_data"
    },
    {
     "data": {
      "application/vnd.jupyter.widget-view+json": {
       "model_id": "21065a90d03d44bbb3f15c56c517e751",
       "version_major": 2,
       "version_minor": 0
      },
      "text/plain": [
       "Checkbox(value=True, description='[CSI4116] Intro to Computer Vision - Lecture 13 동영상', indent=False, layout=L…"
      ]
     },
     "metadata": {},
     "output_type": "display_data"
    },
    {
     "data": {
      "application/vnd.jupyter.widget-view+json": {
       "model_id": "dcdac21eed4e44ccb42bed12588bd4f7",
       "version_major": 2,
       "version_minor": 0
      },
      "text/plain": [
       "Output()"
      ]
     },
     "metadata": {},
     "output_type": "display_data"
    },
    {
     "data": {
      "application/vnd.jupyter.widget-view+json": {
       "model_id": "d5f6c990efcc4afc9f06a618900b0a0a",
       "version_major": 2,
       "version_minor": 0
      },
      "text/plain": [
       "Checkbox(value=True, description='[CSI4116] Intro to Computer Vision - Lecture 14 동영상', indent=False, layout=L…"
      ]
     },
     "metadata": {},
     "output_type": "display_data"
    },
    {
     "data": {
      "application/vnd.jupyter.widget-view+json": {
       "model_id": "dcdac21eed4e44ccb42bed12588bd4f7",
       "version_major": 2,
       "version_minor": 0
      },
      "text/plain": [
       "Output()"
      ]
     },
     "metadata": {},
     "output_type": "display_data"
    },
    {
     "data": {
      "application/vnd.jupyter.widget-view+json": {
       "model_id": "19f5a35186ae4bcfa8b07aa1d0319cec",
       "version_major": 2,
       "version_minor": 0
      },
      "text/plain": [
       "Checkbox(value=True, description='[CSI4116] Intro to Computer Vision - Lecture 15 동영상', indent=False, layout=L…"
      ]
     },
     "metadata": {},
     "output_type": "display_data"
    },
    {
     "data": {
      "application/vnd.jupyter.widget-view+json": {
       "model_id": "dcdac21eed4e44ccb42bed12588bd4f7",
       "version_major": 2,
       "version_minor": 0
      },
      "text/plain": [
       "Output()"
      ]
     },
     "metadata": {},
     "output_type": "display_data"
    },
    {
     "data": {
      "application/vnd.jupyter.widget-view+json": {
       "model_id": "9a7312ef2d064dedb8bf6599b08b69b7",
       "version_major": 2,
       "version_minor": 0
      },
      "text/plain": [
       "Checkbox(value=True, description='[CSI4116] Intro to Computer Vision - Lecture 16 동영상', indent=False, layout=L…"
      ]
     },
     "metadata": {},
     "output_type": "display_data"
    },
    {
     "data": {
      "application/vnd.jupyter.widget-view+json": {
       "model_id": "dcdac21eed4e44ccb42bed12588bd4f7",
       "version_major": 2,
       "version_minor": 0
      },
      "text/plain": [
       "Output()"
      ]
     },
     "metadata": {},
     "output_type": "display_data"
    },
    {
     "data": {
      "application/vnd.jupyter.widget-view+json": {
       "model_id": "a2df408d8e4c42478c0681c8efbf7a8d",
       "version_major": 2,
       "version_minor": 0
      },
      "text/plain": [
       "Checkbox(value=True, description='[CSI4116] Intro to Computer Vision - Lecture 17 동영상', indent=False, layout=L…"
      ]
     },
     "metadata": {},
     "output_type": "display_data"
    },
    {
     "data": {
      "application/vnd.jupyter.widget-view+json": {
       "model_id": "dcdac21eed4e44ccb42bed12588bd4f7",
       "version_major": 2,
       "version_minor": 0
      },
      "text/plain": [
       "Output()"
      ]
     },
     "metadata": {},
     "output_type": "display_data"
    },
    {
     "data": {
      "application/vnd.jupyter.widget-view+json": {
       "model_id": "ac0c001424324136a90357235e0f53b0",
       "version_major": 2,
       "version_minor": 0
      },
      "text/plain": [
       "Checkbox(value=True, description='[CSI4116] Intro to Computer Vision - Lecture 18 동영상', indent=False, layout=L…"
      ]
     },
     "metadata": {},
     "output_type": "display_data"
    },
    {
     "data": {
      "application/vnd.jupyter.widget-view+json": {
       "model_id": "dcdac21eed4e44ccb42bed12588bd4f7",
       "version_major": 2,
       "version_minor": 0
      },
      "text/plain": [
       "Output()"
      ]
     },
     "metadata": {},
     "output_type": "display_data"
    },
    {
     "data": {
      "application/vnd.jupyter.widget-view+json": {
       "model_id": "901323a5e29b415098355476e8cdf3c8",
       "version_major": 2,
       "version_minor": 0
      },
      "text/plain": [
       "Checkbox(value=True, description='[CSI4116] Intro to Computer Vision - Lecture 19 동영상', indent=False, layout=L…"
      ]
     },
     "metadata": {},
     "output_type": "display_data"
    },
    {
     "data": {
      "application/vnd.jupyter.widget-view+json": {
       "model_id": "dcdac21eed4e44ccb42bed12588bd4f7",
       "version_major": 2,
       "version_minor": 0
      },
      "text/plain": [
       "Output()"
      ]
     },
     "metadata": {},
     "output_type": "display_data"
    },
    {
     "data": {
      "application/vnd.jupyter.widget-view+json": {
       "model_id": "bb260a01ece14cdebc58688fa115dcd9",
       "version_major": 2,
       "version_minor": 0
      },
      "text/plain": [
       "Checkbox(value=True, description='[CSI4116] Intro to Computer Vision - Lecture 20 동영상', indent=False, layout=L…"
      ]
     },
     "metadata": {},
     "output_type": "display_data"
    },
    {
     "data": {
      "application/vnd.jupyter.widget-view+json": {
       "model_id": "dcdac21eed4e44ccb42bed12588bd4f7",
       "version_major": 2,
       "version_minor": 0
      },
      "text/plain": [
       "Output()"
      ]
     },
     "metadata": {},
     "output_type": "display_data"
    },
    {
     "data": {
      "application/vnd.jupyter.widget-view+json": {
       "model_id": "8f1a7662be1948afa27b24b4434c4bf6",
       "version_major": 2,
       "version_minor": 0
      },
      "text/plain": [
       "Checkbox(value=True, description='[CSI4116] Intro to Computer Vision - Lecture 21 동영상', indent=False, layout=L…"
      ]
     },
     "metadata": {},
     "output_type": "display_data"
    },
    {
     "data": {
      "application/vnd.jupyter.widget-view+json": {
       "model_id": "dcdac21eed4e44ccb42bed12588bd4f7",
       "version_major": 2,
       "version_minor": 0
      },
      "text/plain": [
       "Output()"
      ]
     },
     "metadata": {},
     "output_type": "display_data"
    },
    {
     "data": {
      "application/vnd.jupyter.widget-view+json": {
       "model_id": "5bc9f0caabd840cb9826e0e1d0f6e1e1",
       "version_major": 2,
       "version_minor": 0
      },
      "text/plain": [
       "Checkbox(value=True, description='[CSI4116] Intro to Computer Vision - Lecture 22 동영상', indent=False, layout=L…"
      ]
     },
     "metadata": {},
     "output_type": "display_data"
    },
    {
     "data": {
      "application/vnd.jupyter.widget-view+json": {
       "model_id": "dcdac21eed4e44ccb42bed12588bd4f7",
       "version_major": 2,
       "version_minor": 0
      },
      "text/plain": [
       "Output()"
      ]
     },
     "metadata": {},
     "output_type": "display_data"
    },
    {
     "data": {
      "application/vnd.jupyter.widget-view+json": {
       "model_id": "4bd1f61794ec438da98c2e7534cf6307",
       "version_major": 2,
       "version_minor": 0
      },
      "text/plain": [
       "Checkbox(value=True, description='[CSI4116] Intro to Computer Vision - Lecture 23 동영상', indent=False, layout=L…"
      ]
     },
     "metadata": {},
     "output_type": "display_data"
    },
    {
     "data": {
      "application/vnd.jupyter.widget-view+json": {
       "model_id": "dcdac21eed4e44ccb42bed12588bd4f7",
       "version_major": 2,
       "version_minor": 0
      },
      "text/plain": [
       "Output()"
      ]
     },
     "metadata": {},
     "output_type": "display_data"
    },
    {
     "data": {
      "application/vnd.jupyter.widget-view+json": {
       "model_id": "7339542c63a84916be0294dd1b4e3f16",
       "version_major": 2,
       "version_minor": 0
      },
      "text/plain": [
       "Checkbox(value=True, description='[CSI4116] Intro to Computer Vision - Lecture 24 동영상', indent=False, layout=L…"
      ]
     },
     "metadata": {},
     "output_type": "display_data"
    },
    {
     "data": {
      "application/vnd.jupyter.widget-view+json": {
       "model_id": "dcdac21eed4e44ccb42bed12588bd4f7",
       "version_major": 2,
       "version_minor": 0
      },
      "text/plain": [
       "Output()"
      ]
     },
     "metadata": {},
     "output_type": "display_data"
    },
    {
     "data": {
      "application/vnd.jupyter.widget-view+json": {
       "model_id": "4c320d453a594819a9202d9301667f21",
       "version_major": 2,
       "version_minor": 0
      },
      "text/plain": [
       "Checkbox(value=True, description='[CSI4116] Intro to Computer Vision - Lecture 25 동영상', indent=False, layout=L…"
      ]
     },
     "metadata": {},
     "output_type": "display_data"
    },
    {
     "data": {
      "application/vnd.jupyter.widget-view+json": {
       "model_id": "dcdac21eed4e44ccb42bed12588bd4f7",
       "version_major": 2,
       "version_minor": 0
      },
      "text/plain": [
       "Output()"
      ]
     },
     "metadata": {},
     "output_type": "display_data"
    },
    {
     "data": {
      "application/vnd.jupyter.widget-view+json": {
       "model_id": "97430838942b4b2a919af48fb1c656e5",
       "version_major": 2,
       "version_minor": 0
      },
      "text/plain": [
       "Checkbox(value=True, description='[CSI4116] Intro to Computer Vision - Lecture 26 동영상', indent=False, layout=L…"
      ]
     },
     "metadata": {},
     "output_type": "display_data"
    },
    {
     "data": {
      "application/vnd.jupyter.widget-view+json": {
       "model_id": "dcdac21eed4e44ccb42bed12588bd4f7",
       "version_major": 2,
       "version_minor": 0
      },
      "text/plain": [
       "Output()"
      ]
     },
     "metadata": {},
     "output_type": "display_data"
    },
    {
     "data": {
      "application/vnd.jupyter.widget-view+json": {
       "model_id": "b512ee54a57e4944a40d5b9f343fdbce",
       "version_major": 2,
       "version_minor": 0
      },
      "text/plain": [
       "Checkbox(value=True, description='[최신영상이해특강] Lecture 2 (3/9) 동영상', indent=False, layout=Layout(height='auto', …"
      ]
     },
     "metadata": {},
     "output_type": "display_data"
    },
    {
     "data": {
      "application/vnd.jupyter.widget-view+json": {
       "model_id": "dcdac21eed4e44ccb42bed12588bd4f7",
       "version_major": 2,
       "version_minor": 0
      },
      "text/plain": [
       "Output()"
      ]
     },
     "metadata": {},
     "output_type": "display_data"
    },
    {
     "data": {
      "application/vnd.jupyter.widget-view+json": {
       "model_id": "89d7876430734b8b9aca61cb474b765c",
       "version_major": 2,
       "version_minor": 0
      },
      "text/plain": [
       "Checkbox(value=True, description='[최신영상이해특강] Lecture 1 (3/2) 동영상', indent=False, layout=Layout(height='auto', …"
      ]
     },
     "metadata": {},
     "output_type": "display_data"
    },
    {
     "data": {
      "application/vnd.jupyter.widget-view+json": {
       "model_id": "dcdac21eed4e44ccb42bed12588bd4f7",
       "version_major": 2,
       "version_minor": 0
      },
      "text/plain": [
       "Output()"
      ]
     },
     "metadata": {},
     "output_type": "display_data"
    },
    {
     "data": {
      "application/vnd.jupyter.widget-view+json": {
       "model_id": "76c290cb59064ca69243f70d34633853",
       "version_major": 2,
       "version_minor": 0
      },
      "text/plain": [
       "Checkbox(value=True, description='[최신영상이해특강] Lecture 2 (3/9) 동영상', indent=False, layout=Layout(height='auto', …"
      ]
     },
     "metadata": {},
     "output_type": "display_data"
    },
    {
     "data": {
      "application/vnd.jupyter.widget-view+json": {
       "model_id": "dcdac21eed4e44ccb42bed12588bd4f7",
       "version_major": 2,
       "version_minor": 0
      },
      "text/plain": [
       "Output()"
      ]
     },
     "metadata": {},
     "output_type": "display_data"
    },
    {
     "data": {
      "application/vnd.jupyter.widget-view+json": {
       "model_id": "92706287b5f14e529c7a306a50fcd7c9",
       "version_major": 2,
       "version_minor": 0
      },
      "text/plain": [
       "Button(description='Download', style=ButtonStyle())"
      ]
     },
     "metadata": {},
     "output_type": "display_data"
    },
    {
     "data": {
      "application/vnd.jupyter.widget-view+json": {
       "model_id": "dcdac21eed4e44ccb42bed12588bd4f7",
       "version_major": 2,
       "version_minor": 0
      },
      "text/plain": [
       "Output()"
      ]
     },
     "metadata": {},
     "output_type": "display_data"
    },
    {
     "name": "stderr",
     "output_type": "stream",
     "text": [
      "100%|██████████| 366/366 [00:46<00:00,  7.90it/s]\n",
      "100%|██████████| 305/305 [00:45<00:00,  6.73it/s]\n",
      "100%|██████████| 502/502 [01:11<00:00,  7.06it/s]\n",
      "100%|██████████| 309/309 [00:34<00:00,  8.89it/s]\n",
      "100%|██████████| 489/489 [01:00<00:00,  8.12it/s]\n",
      "100%|██████████| 305/305 [00:39<00:00,  7.81it/s]\n",
      "100%|██████████| 598/598 [01:19<00:00,  7.57it/s]\n",
      "100%|██████████| 314/314 [00:34<00:00,  9.17it/s]\n",
      "100%|██████████| 222/222 [00:26<00:00,  8.23it/s]\n",
      "100%|██████████| 305/305 [00:32<00:00,  9.47it/s]\n",
      "100%|██████████| 595/595 [01:04<00:00,  9.29it/s]\n",
      "100%|██████████| 309/309 [00:31<00:00,  9.85it/s]\n",
      "100%|██████████| 545/545 [01:04<00:00,  8.41it/s]\n",
      "100%|██████████| 305/305 [00:38<00:00,  7.88it/s]\n",
      "100%|██████████| 626/626 [01:22<00:00,  7.56it/s]\n",
      "100%|██████████| 299/299 [00:30<00:00,  9.67it/s]\n",
      "100%|██████████| 606/606 [01:12<00:00,  8.34it/s]\n",
      "100%|██████████| 304/304 [00:32<00:00,  9.22it/s]\n",
      "100%|██████████| 613/613 [01:23<00:00,  7.36it/s]\n",
      "100%|██████████| 297/297 [00:45<00:00,  6.59it/s]\n",
      "100%|██████████| 612/612 [01:17<00:00,  7.92it/s]\n",
      "100%|██████████| 308/308 [00:32<00:00,  9.39it/s]\n",
      "100%|██████████| 571/571 [01:17<00:00,  7.39it/s]\n",
      "100%|██████████| 310/310 [00:40<00:00,  7.60it/s]\n",
      "100%|██████████| 546/546 [01:21<00:00,  6.73it/s]\n",
      "100%|██████████| 562/562 [00:59<00:00,  9.43it/s]\n",
      "100%|██████████| 546/546 [01:04<00:00,  8.43it/s]\n"
     ]
    }
   ],
   "source": [
    "import ipywidgets as widgets\n",
    "from IPython.display import display\n",
    "layout = widgets.Layout(width='auto', height='auto') #set width and height\n",
    "output = widgets.Output()\n",
    "list_checks = []\n",
    "for item in vod_list:\n",
    "    url = item['url']\n",
    "    name = item['name']\n",
    "    checkbox = widgets.Checkbox(value=True, description=name, indent=False, display='flex', layout=layout)\n",
    "    list_checks.append(checkbox)\n",
    "    display(checkbox, output)\n",
    "\n",
    "button = widgets.Button(description=\"Download\")\n",
    "def on_button_clicked(b):\n",
    "  # Display the message within the output widget.\n",
    "    for i, check in enumerate(list_checks):\n",
    "        url, name, checked = vod_list[i]['url'], vod_list[i]['name'], check.value\n",
    "        name = slugify(name, allow_unicode=True, separator='_') + '.mp4'\n",
    "        if checked:\n",
    "            download_video(url, name)\n",
    "button.on_click(on_button_clicked)\n",
    "display(button, output)"
   ]
  },
  {
   "cell_type": "code",
   "execution_count": null,
   "metadata": {},
   "outputs": [],
   "source": []
  }
 ],
 "metadata": {
  "colab": {
   "provenance": []
  },
  "kernelspec": {
   "display_name": "Python 3",
   "name": "python3"
  },
  "language_info": {
   "codemirror_mode": {
    "name": "ipython",
    "version": 3
   },
   "file_extension": ".py",
   "mimetype": "text/x-python",
   "name": "python",
   "nbconvert_exporter": "python",
   "pygments_lexer": "ipython3",
   "version": "3.9.7"
  },
  "widgets": {
   "application/vnd.jupyter.widget-state+json": {
    "00e38d6505c343c6a45a719edee367dc": {
     "model_module": "@jupyter-widgets/controls",
     "model_module_version": "1.5.0",
     "model_name": "CheckboxModel",
     "state": {
      "_dom_classes": [],
      "_model_module": "@jupyter-widgets/controls",
      "_model_module_version": "1.5.0",
      "_model_name": "CheckboxModel",
      "_view_count": null,
      "_view_module": "@jupyter-widgets/controls",
      "_view_module_version": "1.5.0",
      "_view_name": "CheckboxView",
      "description": "[CSI4116] Intro to Computer Vision - Lecture 19 동영상",
      "description_tooltip": null,
      "disabled": false,
      "indent": false,
      "layout": "IPY_MODEL_c9f334313e334a43b5e366c4d2387740",
      "style": "IPY_MODEL_e611f73011d94109bfe93de088fa9106",
      "value": false
     }
    },
    "045a657ab8c943649e0fd698e68ccca2": {
     "model_module": "@jupyter-widgets/controls",
     "model_module_version": "1.5.0",
     "model_name": "DescriptionStyleModel",
     "state": {
      "_model_module": "@jupyter-widgets/controls",
      "_model_module_version": "1.5.0",
      "_model_name": "DescriptionStyleModel",
      "_view_count": null,
      "_view_module": "@jupyter-widgets/base",
      "_view_module_version": "1.2.0",
      "_view_name": "StyleView",
      "description_width": ""
     }
    },
    "04d81d11cca441ceb38ff9bef582656f": {
     "model_module": "@jupyter-widgets/controls",
     "model_module_version": "1.5.0",
     "model_name": "CheckboxModel",
     "state": {
      "_dom_classes": [],
      "_model_module": "@jupyter-widgets/controls",
      "_model_module_version": "1.5.0",
      "_model_name": "CheckboxModel",
      "_view_count": null,
      "_view_module": "@jupyter-widgets/controls",
      "_view_module_version": "1.5.0",
      "_view_name": "CheckboxView",
      "description": "[CSI4116] Intro to Computer Vision - Lecture 9 동영상",
      "description_tooltip": null,
      "disabled": false,
      "indent": false,
      "layout": "IPY_MODEL_c9f334313e334a43b5e366c4d2387740",
      "style": "IPY_MODEL_632e51bc21294db1a4ee863b956ed096",
      "value": false
     }
    },
    "07ad9503e74b4c7a889980b577c1997e": {
     "model_module": "@jupyter-widgets/controls",
     "model_module_version": "1.5.0",
     "model_name": "DescriptionStyleModel",
     "state": {
      "_model_module": "@jupyter-widgets/controls",
      "_model_module_version": "1.5.0",
      "_model_name": "DescriptionStyleModel",
      "_view_count": null,
      "_view_module": "@jupyter-widgets/base",
      "_view_module_version": "1.2.0",
      "_view_name": "StyleView",
      "description_width": ""
     }
    },
    "13407b6bc8c44607a53e5a609df0884a": {
     "model_module": "@jupyter-widgets/controls",
     "model_module_version": "1.5.0",
     "model_name": "DescriptionStyleModel",
     "state": {
      "_model_module": "@jupyter-widgets/controls",
      "_model_module_version": "1.5.0",
      "_model_name": "DescriptionStyleModel",
      "_view_count": null,
      "_view_module": "@jupyter-widgets/base",
      "_view_module_version": "1.2.0",
      "_view_name": "StyleView",
      "description_width": ""
     }
    },
    "1ed12aeeeade4a65b3dadfc3dbc404fa": {
     "model_module": "@jupyter-widgets/controls",
     "model_module_version": "1.5.0",
     "model_name": "CheckboxModel",
     "state": {
      "_dom_classes": [],
      "_model_module": "@jupyter-widgets/controls",
      "_model_module_version": "1.5.0",
      "_model_name": "CheckboxModel",
      "_view_count": null,
      "_view_module": "@jupyter-widgets/controls",
      "_view_module_version": "1.5.0",
      "_view_name": "CheckboxView",
      "description": "[CSI4116] Intro to Computer Vision - Lecture 7 동영상",
      "description_tooltip": null,
      "disabled": false,
      "indent": false,
      "layout": "IPY_MODEL_c9f334313e334a43b5e366c4d2387740",
      "style": "IPY_MODEL_79a5619f42c4463eaba19ca79b8a2b07",
      "value": false
     }
    },
    "25ce86436ba94db4ad646e662f1dc839": {
     "model_module": "@jupyter-widgets/controls",
     "model_module_version": "1.5.0",
     "model_name": "CheckboxModel",
     "state": {
      "_dom_classes": [],
      "_model_module": "@jupyter-widgets/controls",
      "_model_module_version": "1.5.0",
      "_model_name": "CheckboxModel",
      "_view_count": null,
      "_view_module": "@jupyter-widgets/controls",
      "_view_module_version": "1.5.0",
      "_view_name": "CheckboxView",
      "description": "[CSI4116] Intro to Computer Vision - Lecture 12 동영상",
      "description_tooltip": null,
      "disabled": false,
      "indent": false,
      "layout": "IPY_MODEL_c9f334313e334a43b5e366c4d2387740",
      "style": "IPY_MODEL_cb358cf00336494bac389b7a65b2a4cf",
      "value": false
     }
    },
    "290b2919eccb48c7babdcef8a359c426": {
     "model_module": "@jupyter-widgets/controls",
     "model_module_version": "1.5.0",
     "model_name": "CheckboxModel",
     "state": {
      "_dom_classes": [],
      "_model_module": "@jupyter-widgets/controls",
      "_model_module_version": "1.5.0",
      "_model_name": "CheckboxModel",
      "_view_count": null,
      "_view_module": "@jupyter-widgets/controls",
      "_view_module_version": "1.5.0",
      "_view_name": "CheckboxView",
      "description": "[CSI4116] Intro to Computer Vision - Lecture 17 동영상",
      "description_tooltip": null,
      "disabled": false,
      "indent": false,
      "layout": "IPY_MODEL_c9f334313e334a43b5e366c4d2387740",
      "style": "IPY_MODEL_d9db887d9ff546818f8fe5937ae38b72",
      "value": false
     }
    },
    "2a13a3aadec2487cb9098500ecd5df1a": {
     "model_module": "@jupyter-widgets/controls",
     "model_module_version": "1.5.0",
     "model_name": "CheckboxModel",
     "state": {
      "_dom_classes": [],
      "_model_module": "@jupyter-widgets/controls",
      "_model_module_version": "1.5.0",
      "_model_name": "CheckboxModel",
      "_view_count": null,
      "_view_module": "@jupyter-widgets/controls",
      "_view_module_version": "1.5.0",
      "_view_name": "CheckboxView",
      "description": "[최신영상이해특강] Lecture 1 (3/2) 동영상",
      "description_tooltip": null,
      "disabled": false,
      "indent": false,
      "layout": "IPY_MODEL_c9f334313e334a43b5e366c4d2387740",
      "style": "IPY_MODEL_b466df43d2a249d096222113c88605a0",
      "value": false
     }
    },
    "2adeb088be2143f9bc5f2990dbb8b55f": {
     "model_module": "@jupyter-widgets/controls",
     "model_module_version": "1.5.0",
     "model_name": "CheckboxModel",
     "state": {
      "_dom_classes": [],
      "_model_module": "@jupyter-widgets/controls",
      "_model_module_version": "1.5.0",
      "_model_name": "CheckboxModel",
      "_view_count": null,
      "_view_module": "@jupyter-widgets/controls",
      "_view_module_version": "1.5.0",
      "_view_name": "CheckboxView",
      "description": "[CSI4116] Intro to Computer Vision - Lecture 25 동영상",
      "description_tooltip": null,
      "disabled": false,
      "indent": false,
      "layout": "IPY_MODEL_c9f334313e334a43b5e366c4d2387740",
      "style": "IPY_MODEL_d90faf5e0b094d798af75c76b197a1f1",
      "value": false
     }
    },
    "2bc0e3fd569b402494e63822b14ad0dc": {
     "model_module": "@jupyter-widgets/controls",
     "model_module_version": "1.5.0",
     "model_name": "DescriptionStyleModel",
     "state": {
      "_model_module": "@jupyter-widgets/controls",
      "_model_module_version": "1.5.0",
      "_model_name": "DescriptionStyleModel",
      "_view_count": null,
      "_view_module": "@jupyter-widgets/base",
      "_view_module_version": "1.2.0",
      "_view_name": "StyleView",
      "description_width": ""
     }
    },
    "375c82bc314c4954be9694aee8f3b38c": {
     "model_module": "@jupyter-widgets/controls",
     "model_module_version": "1.5.0",
     "model_name": "DescriptionStyleModel",
     "state": {
      "_model_module": "@jupyter-widgets/controls",
      "_model_module_version": "1.5.0",
      "_model_name": "DescriptionStyleModel",
      "_view_count": null,
      "_view_module": "@jupyter-widgets/base",
      "_view_module_version": "1.2.0",
      "_view_name": "StyleView",
      "description_width": ""
     }
    },
    "4665168da4c6458fb2e08d622402eeca": {
     "model_module": "@jupyter-widgets/controls",
     "model_module_version": "1.5.0",
     "model_name": "CheckboxModel",
     "state": {
      "_dom_classes": [],
      "_model_module": "@jupyter-widgets/controls",
      "_model_module_version": "1.5.0",
      "_model_name": "CheckboxModel",
      "_view_count": null,
      "_view_module": "@jupyter-widgets/controls",
      "_view_module_version": "1.5.0",
      "_view_name": "CheckboxView",
      "description": "[CSI4116] Intro to Computer Vision - Lecture 18 동영상",
      "description_tooltip": null,
      "disabled": false,
      "indent": false,
      "layout": "IPY_MODEL_c9f334313e334a43b5e366c4d2387740",
      "style": "IPY_MODEL_f25cdd8ebeca4655aa8b4749cbe1ece6",
      "value": false
     }
    },
    "50ac0ec165374a95ae7d640b604bcc85": {
     "model_module": "@jupyter-widgets/controls",
     "model_module_version": "1.5.0",
     "model_name": "DescriptionStyleModel",
     "state": {
      "_model_module": "@jupyter-widgets/controls",
      "_model_module_version": "1.5.0",
      "_model_name": "DescriptionStyleModel",
      "_view_count": null,
      "_view_module": "@jupyter-widgets/base",
      "_view_module_version": "1.2.0",
      "_view_name": "StyleView",
      "description_width": ""
     }
    },
    "56edf8be27c7409a94e2ca710620f4a2": {
     "model_module": "@jupyter-widgets/controls",
     "model_module_version": "1.5.0",
     "model_name": "CheckboxModel",
     "state": {
      "_dom_classes": [],
      "_model_module": "@jupyter-widgets/controls",
      "_model_module_version": "1.5.0",
      "_model_name": "CheckboxModel",
      "_view_count": null,
      "_view_module": "@jupyter-widgets/controls",
      "_view_module_version": "1.5.0",
      "_view_name": "CheckboxView",
      "description": "[CSI4116] Intro to Computer Vision - Lecture 4 동영상",
      "description_tooltip": null,
      "disabled": false,
      "indent": false,
      "layout": "IPY_MODEL_c9f334313e334a43b5e366c4d2387740",
      "style": "IPY_MODEL_bb89e32d3b7a4e2387b2f1c55d02338a",
      "value": false
     }
    },
    "5a3d61dbad714d0d83acf6df28fd979e": {
     "model_module": "@jupyter-widgets/controls",
     "model_module_version": "1.5.0",
     "model_name": "DescriptionStyleModel",
     "state": {
      "_model_module": "@jupyter-widgets/controls",
      "_model_module_version": "1.5.0",
      "_model_name": "DescriptionStyleModel",
      "_view_count": null,
      "_view_module": "@jupyter-widgets/base",
      "_view_module_version": "1.2.0",
      "_view_name": "StyleView",
      "description_width": ""
     }
    },
    "5bcfcb0e642344a6af342fb5bfedfb4f": {
     "model_module": "@jupyter-widgets/controls",
     "model_module_version": "1.5.0",
     "model_name": "CheckboxModel",
     "state": {
      "_dom_classes": [],
      "_model_module": "@jupyter-widgets/controls",
      "_model_module_version": "1.5.0",
      "_model_name": "CheckboxModel",
      "_view_count": null,
      "_view_module": "@jupyter-widgets/controls",
      "_view_module_version": "1.5.0",
      "_view_name": "CheckboxView",
      "description": "[CSI4116] Intro to Computer Vision - Lecture 1 동영상",
      "description_tooltip": null,
      "disabled": false,
      "indent": false,
      "layout": "IPY_MODEL_c9f334313e334a43b5e366c4d2387740",
      "style": "IPY_MODEL_375c82bc314c4954be9694aee8f3b38c",
      "value": false
     }
    },
    "5d73baa67c7f4eb191e90bc2af53ce02": {
     "model_module": "@jupyter-widgets/controls",
     "model_module_version": "1.5.0",
     "model_name": "CheckboxModel",
     "state": {
      "_dom_classes": [],
      "_model_module": "@jupyter-widgets/controls",
      "_model_module_version": "1.5.0",
      "_model_name": "CheckboxModel",
      "_view_count": null,
      "_view_module": "@jupyter-widgets/controls",
      "_view_module_version": "1.5.0",
      "_view_name": "CheckboxView",
      "description": "[CSI4116] Intro to Computer Vision - Lecture 16 동영상",
      "description_tooltip": null,
      "disabled": false,
      "indent": false,
      "layout": "IPY_MODEL_c9f334313e334a43b5e366c4d2387740",
      "style": "IPY_MODEL_2bc0e3fd569b402494e63822b14ad0dc",
      "value": false
     }
    },
    "5e52150f017e49a4ab657ac4f1f1053f": {
     "model_module": "@jupyter-widgets/controls",
     "model_module_version": "1.5.0",
     "model_name": "CheckboxModel",
     "state": {
      "_dom_classes": [],
      "_model_module": "@jupyter-widgets/controls",
      "_model_module_version": "1.5.0",
      "_model_name": "CheckboxModel",
      "_view_count": null,
      "_view_module": "@jupyter-widgets/controls",
      "_view_module_version": "1.5.0",
      "_view_name": "CheckboxView",
      "description": "[CSI4116] Intro to Computer Vision - Lecture 2 동영상",
      "description_tooltip": null,
      "disabled": false,
      "indent": false,
      "layout": "IPY_MODEL_c9f334313e334a43b5e366c4d2387740",
      "style": "IPY_MODEL_f23ef5faf07d423cbff9ad72789068aa",
      "value": false
     }
    },
    "632e51bc21294db1a4ee863b956ed096": {
     "model_module": "@jupyter-widgets/controls",
     "model_module_version": "1.5.0",
     "model_name": "DescriptionStyleModel",
     "state": {
      "_model_module": "@jupyter-widgets/controls",
      "_model_module_version": "1.5.0",
      "_model_name": "DescriptionStyleModel",
      "_view_count": null,
      "_view_module": "@jupyter-widgets/base",
      "_view_module_version": "1.2.0",
      "_view_name": "StyleView",
      "description_width": ""
     }
    },
    "6aa5f31495de4b4fa0159b41c16550f9": {
     "model_module": "@jupyter-widgets/controls",
     "model_module_version": "1.5.0",
     "model_name": "CheckboxModel",
     "state": {
      "_dom_classes": [],
      "_model_module": "@jupyter-widgets/controls",
      "_model_module_version": "1.5.0",
      "_model_name": "CheckboxModel",
      "_view_count": null,
      "_view_module": "@jupyter-widgets/controls",
      "_view_module_version": "1.5.0",
      "_view_name": "CheckboxView",
      "description": "[CSI4116] Intro to Computer Vision - Lecture 20 동영상",
      "description_tooltip": null,
      "disabled": false,
      "indent": false,
      "layout": "IPY_MODEL_c9f334313e334a43b5e366c4d2387740",
      "style": "IPY_MODEL_7225598f3baa4391a2ab98fd0d14f4b4",
      "value": false
     }
    },
    "6f1aba94f6eb4d8a98c8e615b26fa3b4": {
     "model_module": "@jupyter-widgets/controls",
     "model_module_version": "1.5.0",
     "model_name": "CheckboxModel",
     "state": {
      "_dom_classes": [],
      "_model_module": "@jupyter-widgets/controls",
      "_model_module_version": "1.5.0",
      "_model_name": "CheckboxModel",
      "_view_count": null,
      "_view_module": "@jupyter-widgets/controls",
      "_view_module_version": "1.5.0",
      "_view_name": "CheckboxView",
      "description": "[CSI4116] Intro to Computer Vision - Lecture 14 동영상",
      "description_tooltip": null,
      "disabled": false,
      "indent": false,
      "layout": "IPY_MODEL_c9f334313e334a43b5e366c4d2387740",
      "style": "IPY_MODEL_50ac0ec165374a95ae7d640b604bcc85",
      "value": false
     }
    },
    "7225598f3baa4391a2ab98fd0d14f4b4": {
     "model_module": "@jupyter-widgets/controls",
     "model_module_version": "1.5.0",
     "model_name": "DescriptionStyleModel",
     "state": {
      "_model_module": "@jupyter-widgets/controls",
      "_model_module_version": "1.5.0",
      "_model_name": "DescriptionStyleModel",
      "_view_count": null,
      "_view_module": "@jupyter-widgets/base",
      "_view_module_version": "1.2.0",
      "_view_name": "StyleView",
      "description_width": ""
     }
    },
    "79a5619f42c4463eaba19ca79b8a2b07": {
     "model_module": "@jupyter-widgets/controls",
     "model_module_version": "1.5.0",
     "model_name": "DescriptionStyleModel",
     "state": {
      "_model_module": "@jupyter-widgets/controls",
      "_model_module_version": "1.5.0",
      "_model_name": "DescriptionStyleModel",
      "_view_count": null,
      "_view_module": "@jupyter-widgets/base",
      "_view_module_version": "1.2.0",
      "_view_name": "StyleView",
      "description_width": ""
     }
    },
    "82128ada3e704399bd6aa29695104ad6": {
     "model_module": "@jupyter-widgets/controls",
     "model_module_version": "1.5.0",
     "model_name": "CheckboxModel",
     "state": {
      "_dom_classes": [],
      "_model_module": "@jupyter-widgets/controls",
      "_model_module_version": "1.5.0",
      "_model_name": "CheckboxModel",
      "_view_count": null,
      "_view_module": "@jupyter-widgets/controls",
      "_view_module_version": "1.5.0",
      "_view_name": "CheckboxView",
      "description": "[CSI4116] Intro to Computer Vision - Lecture 8 동영상",
      "description_tooltip": null,
      "disabled": false,
      "indent": false,
      "layout": "IPY_MODEL_c9f334313e334a43b5e366c4d2387740",
      "style": "IPY_MODEL_07ad9503e74b4c7a889980b577c1997e",
      "value": false
     }
    },
    "82ce0f829c0c4f8581165cffb73e6099": {
     "model_module": "@jupyter-widgets/controls",
     "model_module_version": "1.5.0",
     "model_name": "DescriptionStyleModel",
     "state": {
      "_model_module": "@jupyter-widgets/controls",
      "_model_module_version": "1.5.0",
      "_model_name": "DescriptionStyleModel",
      "_view_count": null,
      "_view_module": "@jupyter-widgets/base",
      "_view_module_version": "1.2.0",
      "_view_name": "StyleView",
      "description_width": ""
     }
    },
    "83bbb8363c8b4f81ac85d6d4636cbc90": {
     "model_module": "@jupyter-widgets/controls",
     "model_module_version": "1.5.0",
     "model_name": "CheckboxModel",
     "state": {
      "_dom_classes": [],
      "_model_module": "@jupyter-widgets/controls",
      "_model_module_version": "1.5.0",
      "_model_name": "CheckboxModel",
      "_view_count": null,
      "_view_module": "@jupyter-widgets/controls",
      "_view_module_version": "1.5.0",
      "_view_name": "CheckboxView",
      "description": "[CSI4116] Intro to Computer Vision - Lecture 11 동영상",
      "description_tooltip": null,
      "disabled": false,
      "indent": false,
      "layout": "IPY_MODEL_c9f334313e334a43b5e366c4d2387740",
      "style": "IPY_MODEL_d8a0ee46ffa14ab3a0e5e2d62877ac77",
      "value": false
     }
    },
    "8e3010e4ecd04f35b85bb01411012648": {
     "model_module": "@jupyter-widgets/controls",
     "model_module_version": "1.5.0",
     "model_name": "DescriptionStyleModel",
     "state": {
      "_model_module": "@jupyter-widgets/controls",
      "_model_module_version": "1.5.0",
      "_model_name": "DescriptionStyleModel",
      "_view_count": null,
      "_view_module": "@jupyter-widgets/base",
      "_view_module_version": "1.2.0",
      "_view_name": "StyleView",
      "description_width": ""
     }
    },
    "912819013dfb450db20fb048ff3d538b": {
     "model_module": "@jupyter-widgets/controls",
     "model_module_version": "1.5.0",
     "model_name": "DescriptionStyleModel",
     "state": {
      "_model_module": "@jupyter-widgets/controls",
      "_model_module_version": "1.5.0",
      "_model_name": "DescriptionStyleModel",
      "_view_count": null,
      "_view_module": "@jupyter-widgets/base",
      "_view_module_version": "1.2.0",
      "_view_name": "StyleView",
      "description_width": ""
     }
    },
    "926b23a6e964432990cafcab22810f6f": {
     "model_module": "@jupyter-widgets/controls",
     "model_module_version": "1.5.0",
     "model_name": "CheckboxModel",
     "state": {
      "_dom_classes": [],
      "_model_module": "@jupyter-widgets/controls",
      "_model_module_version": "1.5.0",
      "_model_name": "CheckboxModel",
      "_view_count": null,
      "_view_module": "@jupyter-widgets/controls",
      "_view_module_version": "1.5.0",
      "_view_name": "CheckboxView",
      "description": "[CSI4116] Intro to Computer Vision - Lecture 24 동영상",
      "description_tooltip": null,
      "disabled": false,
      "indent": false,
      "layout": "IPY_MODEL_c9f334313e334a43b5e366c4d2387740",
      "style": "IPY_MODEL_ef78970b8c904d94aafab86201a591da",
      "value": false
     }
    },
    "9475e11e600b4b05be9c27fafe56d2ad": {
     "model_module": "@jupyter-widgets/controls",
     "model_module_version": "1.5.0",
     "model_name": "DescriptionStyleModel",
     "state": {
      "_model_module": "@jupyter-widgets/controls",
      "_model_module_version": "1.5.0",
      "_model_name": "DescriptionStyleModel",
      "_view_count": null,
      "_view_module": "@jupyter-widgets/base",
      "_view_module_version": "1.2.0",
      "_view_name": "StyleView",
      "description_width": ""
     }
    },
    "9c7e7624e03f474ba049befc8d9c8cc1": {
     "model_module": "@jupyter-widgets/controls",
     "model_module_version": "1.5.0",
     "model_name": "DescriptionStyleModel",
     "state": {
      "_model_module": "@jupyter-widgets/controls",
      "_model_module_version": "1.5.0",
      "_model_name": "DescriptionStyleModel",
      "_view_count": null,
      "_view_module": "@jupyter-widgets/base",
      "_view_module_version": "1.2.0",
      "_view_name": "StyleView",
      "description_width": ""
     }
    },
    "9cf6100d72284264bdad7190829ee282": {
     "model_module": "@jupyter-widgets/controls",
     "model_module_version": "1.5.0",
     "model_name": "CheckboxModel",
     "state": {
      "_dom_classes": [],
      "_model_module": "@jupyter-widgets/controls",
      "_model_module_version": "1.5.0",
      "_model_name": "CheckboxModel",
      "_view_count": null,
      "_view_module": "@jupyter-widgets/controls",
      "_view_module_version": "1.5.0",
      "_view_name": "CheckboxView",
      "description": "[CSI4116] Intro to Computer Vision - Lecture 5 동영상",
      "description_tooltip": null,
      "disabled": false,
      "indent": false,
      "layout": "IPY_MODEL_c9f334313e334a43b5e366c4d2387740",
      "style": "IPY_MODEL_dc4c932c674b4242986337401627199b",
      "value": false
     }
    },
    "9e1e148966c14c62b48bbc7187cdc073": {
     "model_module": "@jupyter-widgets/controls",
     "model_module_version": "1.5.0",
     "model_name": "CheckboxModel",
     "state": {
      "_dom_classes": [],
      "_model_module": "@jupyter-widgets/controls",
      "_model_module_version": "1.5.0",
      "_model_name": "CheckboxModel",
      "_view_count": null,
      "_view_module": "@jupyter-widgets/controls",
      "_view_module_version": "1.5.0",
      "_view_name": "CheckboxView",
      "description": "[CSI4116] Intro to Computer Vision - Lecture 26 동영상",
      "description_tooltip": null,
      "disabled": false,
      "indent": false,
      "layout": "IPY_MODEL_c9f334313e334a43b5e366c4d2387740",
      "style": "IPY_MODEL_5a3d61dbad714d0d83acf6df28fd979e",
      "value": true
     }
    },
    "a109d101916f4ae7bbc74518c21eb337": {
     "model_module": "@jupyter-widgets/base",
     "model_module_version": "1.2.0",
     "model_name": "LayoutModel",
     "state": {
      "_model_module": "@jupyter-widgets/base",
      "_model_module_version": "1.2.0",
      "_model_name": "LayoutModel",
      "_view_count": null,
      "_view_module": "@jupyter-widgets/base",
      "_view_module_version": "1.2.0",
      "_view_name": "LayoutView",
      "align_content": null,
      "align_items": null,
      "align_self": null,
      "border": null,
      "bottom": null,
      "display": null,
      "flex": null,
      "flex_flow": null,
      "grid_area": null,
      "grid_auto_columns": null,
      "grid_auto_flow": null,
      "grid_auto_rows": null,
      "grid_column": null,
      "grid_gap": null,
      "grid_row": null,
      "grid_template_areas": null,
      "grid_template_columns": null,
      "grid_template_rows": null,
      "height": null,
      "justify_content": null,
      "justify_items": null,
      "left": null,
      "margin": null,
      "max_height": null,
      "max_width": null,
      "min_height": null,
      "min_width": null,
      "object_fit": null,
      "object_position": null,
      "order": null,
      "overflow": null,
      "overflow_x": null,
      "overflow_y": null,
      "padding": null,
      "right": null,
      "top": null,
      "visibility": null,
      "width": null
     }
    },
    "b0cc03964d6d4dfd9bd05f9b2648d7bd": {
     "model_module": "@jupyter-widgets/controls",
     "model_module_version": "1.5.0",
     "model_name": "CheckboxModel",
     "state": {
      "_dom_classes": [],
      "_model_module": "@jupyter-widgets/controls",
      "_model_module_version": "1.5.0",
      "_model_name": "CheckboxModel",
      "_view_count": null,
      "_view_module": "@jupyter-widgets/controls",
      "_view_module_version": "1.5.0",
      "_view_name": "CheckboxView",
      "description": "[CSI4116] Intro to Computer Vision - Lecture 21 동영상",
      "description_tooltip": null,
      "disabled": false,
      "indent": false,
      "layout": "IPY_MODEL_c9f334313e334a43b5e366c4d2387740",
      "style": "IPY_MODEL_912819013dfb450db20fb048ff3d538b",
      "value": false
     }
    },
    "b466df43d2a249d096222113c88605a0": {
     "model_module": "@jupyter-widgets/controls",
     "model_module_version": "1.5.0",
     "model_name": "DescriptionStyleModel",
     "state": {
      "_model_module": "@jupyter-widgets/controls",
      "_model_module_version": "1.5.0",
      "_model_name": "DescriptionStyleModel",
      "_view_count": null,
      "_view_module": "@jupyter-widgets/base",
      "_view_module_version": "1.2.0",
      "_view_name": "StyleView",
      "description_width": ""
     }
    },
    "b8aafbdc0bfd468a9364be8a6de962f1": {
     "model_module": "@jupyter-widgets/controls",
     "model_module_version": "1.5.0",
     "model_name": "CheckboxModel",
     "state": {
      "_dom_classes": [],
      "_model_module": "@jupyter-widgets/controls",
      "_model_module_version": "1.5.0",
      "_model_name": "CheckboxModel",
      "_view_count": null,
      "_view_module": "@jupyter-widgets/controls",
      "_view_module_version": "1.5.0",
      "_view_name": "CheckboxView",
      "description": "[CSI4116] Intro to Computer Vision - Lecture 10 동영상",
      "description_tooltip": null,
      "disabled": false,
      "indent": false,
      "layout": "IPY_MODEL_c9f334313e334a43b5e366c4d2387740",
      "style": "IPY_MODEL_e642299e7d38456da8acbadc4d548e91",
      "value": false
     }
    },
    "bb0c5abb8a1a4e29bc114fbc7582363b": {
     "model_module": "@jupyter-widgets/output",
     "model_module_version": "1.0.0",
     "model_name": "OutputModel",
     "state": {
      "_dom_classes": [],
      "_model_module": "@jupyter-widgets/output",
      "_model_module_version": "1.0.0",
      "_model_name": "OutputModel",
      "_view_count": null,
      "_view_module": "@jupyter-widgets/output",
      "_view_module_version": "1.0.0",
      "_view_name": "OutputView",
      "layout": "IPY_MODEL_a109d101916f4ae7bbc74518c21eb337",
      "msg_id": "",
      "outputs": []
     }
    },
    "bb89e32d3b7a4e2387b2f1c55d02338a": {
     "model_module": "@jupyter-widgets/controls",
     "model_module_version": "1.5.0",
     "model_name": "DescriptionStyleModel",
     "state": {
      "_model_module": "@jupyter-widgets/controls",
      "_model_module_version": "1.5.0",
      "_model_name": "DescriptionStyleModel",
      "_view_count": null,
      "_view_module": "@jupyter-widgets/base",
      "_view_module_version": "1.2.0",
      "_view_name": "StyleView",
      "description_width": ""
     }
    },
    "c9f334313e334a43b5e366c4d2387740": {
     "model_module": "@jupyter-widgets/base",
     "model_module_version": "1.2.0",
     "model_name": "LayoutModel",
     "state": {
      "_model_module": "@jupyter-widgets/base",
      "_model_module_version": "1.2.0",
      "_model_name": "LayoutModel",
      "_view_count": null,
      "_view_module": "@jupyter-widgets/base",
      "_view_module_version": "1.2.0",
      "_view_name": "LayoutView",
      "align_content": null,
      "align_items": null,
      "align_self": null,
      "border": null,
      "bottom": null,
      "display": null,
      "flex": null,
      "flex_flow": null,
      "grid_area": null,
      "grid_auto_columns": null,
      "grid_auto_flow": null,
      "grid_auto_rows": null,
      "grid_column": null,
      "grid_gap": null,
      "grid_row": null,
      "grid_template_areas": null,
      "grid_template_columns": null,
      "grid_template_rows": null,
      "height": "20px",
      "justify_content": null,
      "justify_items": null,
      "left": null,
      "margin": null,
      "max_height": null,
      "max_width": null,
      "min_height": null,
      "min_width": null,
      "object_fit": null,
      "object_position": null,
      "order": null,
      "overflow": null,
      "overflow_x": null,
      "overflow_y": null,
      "padding": null,
      "right": null,
      "top": null,
      "visibility": null,
      "width": "auto"
     }
    },
    "cb358cf00336494bac389b7a65b2a4cf": {
     "model_module": "@jupyter-widgets/controls",
     "model_module_version": "1.5.0",
     "model_name": "DescriptionStyleModel",
     "state": {
      "_model_module": "@jupyter-widgets/controls",
      "_model_module_version": "1.5.0",
      "_model_name": "DescriptionStyleModel",
      "_view_count": null,
      "_view_module": "@jupyter-widgets/base",
      "_view_module_version": "1.2.0",
      "_view_name": "StyleView",
      "description_width": ""
     }
    },
    "d0d17db6982f452391d3413ec100ba0b": {
     "model_module": "@jupyter-widgets/base",
     "model_module_version": "1.2.0",
     "model_name": "LayoutModel",
     "state": {
      "_model_module": "@jupyter-widgets/base",
      "_model_module_version": "1.2.0",
      "_model_name": "LayoutModel",
      "_view_count": null,
      "_view_module": "@jupyter-widgets/base",
      "_view_module_version": "1.2.0",
      "_view_name": "LayoutView",
      "align_content": null,
      "align_items": null,
      "align_self": null,
      "border": null,
      "bottom": null,
      "display": null,
      "flex": null,
      "flex_flow": null,
      "grid_area": null,
      "grid_auto_columns": null,
      "grid_auto_flow": null,
      "grid_auto_rows": null,
      "grid_column": null,
      "grid_gap": null,
      "grid_row": null,
      "grid_template_areas": null,
      "grid_template_columns": null,
      "grid_template_rows": null,
      "height": null,
      "justify_content": null,
      "justify_items": null,
      "left": null,
      "margin": null,
      "max_height": null,
      "max_width": null,
      "min_height": null,
      "min_width": null,
      "object_fit": null,
      "object_position": null,
      "order": null,
      "overflow": null,
      "overflow_x": null,
      "overflow_y": null,
      "padding": null,
      "right": null,
      "top": null,
      "visibility": null,
      "width": null
     }
    },
    "d29706e87ca845029934ac156bc4a56e": {
     "model_module": "@jupyter-widgets/controls",
     "model_module_version": "1.5.0",
     "model_name": "ButtonStyleModel",
     "state": {
      "_model_module": "@jupyter-widgets/controls",
      "_model_module_version": "1.5.0",
      "_model_name": "ButtonStyleModel",
      "_view_count": null,
      "_view_module": "@jupyter-widgets/base",
      "_view_module_version": "1.2.0",
      "_view_name": "StyleView",
      "button_color": null,
      "font_weight": ""
     }
    },
    "d6d779b187f54b3caa16adf7cff70e91": {
     "model_module": "@jupyter-widgets/controls",
     "model_module_version": "1.5.0",
     "model_name": "CheckboxModel",
     "state": {
      "_dom_classes": [],
      "_model_module": "@jupyter-widgets/controls",
      "_model_module_version": "1.5.0",
      "_model_name": "CheckboxModel",
      "_view_count": null,
      "_view_module": "@jupyter-widgets/controls",
      "_view_module_version": "1.5.0",
      "_view_name": "CheckboxView",
      "description": "[CSI4116] Intro to Computer Vision - Lecture 22 동영상",
      "description_tooltip": null,
      "disabled": false,
      "indent": false,
      "layout": "IPY_MODEL_c9f334313e334a43b5e366c4d2387740",
      "style": "IPY_MODEL_13407b6bc8c44607a53e5a609df0884a",
      "value": false
     }
    },
    "d8a0ee46ffa14ab3a0e5e2d62877ac77": {
     "model_module": "@jupyter-widgets/controls",
     "model_module_version": "1.5.0",
     "model_name": "DescriptionStyleModel",
     "state": {
      "_model_module": "@jupyter-widgets/controls",
      "_model_module_version": "1.5.0",
      "_model_name": "DescriptionStyleModel",
      "_view_count": null,
      "_view_module": "@jupyter-widgets/base",
      "_view_module_version": "1.2.0",
      "_view_name": "StyleView",
      "description_width": ""
     }
    },
    "d90faf5e0b094d798af75c76b197a1f1": {
     "model_module": "@jupyter-widgets/controls",
     "model_module_version": "1.5.0",
     "model_name": "DescriptionStyleModel",
     "state": {
      "_model_module": "@jupyter-widgets/controls",
      "_model_module_version": "1.5.0",
      "_model_name": "DescriptionStyleModel",
      "_view_count": null,
      "_view_module": "@jupyter-widgets/base",
      "_view_module_version": "1.2.0",
      "_view_name": "StyleView",
      "description_width": ""
     }
    },
    "d9db887d9ff546818f8fe5937ae38b72": {
     "model_module": "@jupyter-widgets/controls",
     "model_module_version": "1.5.0",
     "model_name": "DescriptionStyleModel",
     "state": {
      "_model_module": "@jupyter-widgets/controls",
      "_model_module_version": "1.5.0",
      "_model_name": "DescriptionStyleModel",
      "_view_count": null,
      "_view_module": "@jupyter-widgets/base",
      "_view_module_version": "1.2.0",
      "_view_name": "StyleView",
      "description_width": ""
     }
    },
    "dc4c932c674b4242986337401627199b": {
     "model_module": "@jupyter-widgets/controls",
     "model_module_version": "1.5.0",
     "model_name": "DescriptionStyleModel",
     "state": {
      "_model_module": "@jupyter-widgets/controls",
      "_model_module_version": "1.5.0",
      "_model_name": "DescriptionStyleModel",
      "_view_count": null,
      "_view_module": "@jupyter-widgets/base",
      "_view_module_version": "1.2.0",
      "_view_name": "StyleView",
      "description_width": ""
     }
    },
    "dea9058f69194b05a3da4dec847c50aa": {
     "model_module": "@jupyter-widgets/controls",
     "model_module_version": "1.5.0",
     "model_name": "CheckboxModel",
     "state": {
      "_dom_classes": [],
      "_model_module": "@jupyter-widgets/controls",
      "_model_module_version": "1.5.0",
      "_model_name": "CheckboxModel",
      "_view_count": null,
      "_view_module": "@jupyter-widgets/controls",
      "_view_module_version": "1.5.0",
      "_view_name": "CheckboxView",
      "description": "[CSI4116] Intro to Computer Vision - Lecture 6 동영상",
      "description_tooltip": null,
      "disabled": false,
      "indent": false,
      "layout": "IPY_MODEL_c9f334313e334a43b5e366c4d2387740",
      "style": "IPY_MODEL_8e3010e4ecd04f35b85bb01411012648",
      "value": false
     }
    },
    "e10f6b680db244b69fc0a4e07a4989dd": {
     "model_module": "@jupyter-widgets/controls",
     "model_module_version": "1.5.0",
     "model_name": "CheckboxModel",
     "state": {
      "_dom_classes": [],
      "_model_module": "@jupyter-widgets/controls",
      "_model_module_version": "1.5.0",
      "_model_name": "CheckboxModel",
      "_view_count": null,
      "_view_module": "@jupyter-widgets/controls",
      "_view_module_version": "1.5.0",
      "_view_name": "CheckboxView",
      "description": "[CSI4116] Intro to Computer Vision - Lecture 15 동영상",
      "description_tooltip": null,
      "disabled": false,
      "indent": false,
      "layout": "IPY_MODEL_c9f334313e334a43b5e366c4d2387740",
      "style": "IPY_MODEL_9c7e7624e03f474ba049befc8d9c8cc1",
      "value": false
     }
    },
    "e611f73011d94109bfe93de088fa9106": {
     "model_module": "@jupyter-widgets/controls",
     "model_module_version": "1.5.0",
     "model_name": "DescriptionStyleModel",
     "state": {
      "_model_module": "@jupyter-widgets/controls",
      "_model_module_version": "1.5.0",
      "_model_name": "DescriptionStyleModel",
      "_view_count": null,
      "_view_module": "@jupyter-widgets/base",
      "_view_module_version": "1.2.0",
      "_view_name": "StyleView",
      "description_width": ""
     }
    },
    "e642299e7d38456da8acbadc4d548e91": {
     "model_module": "@jupyter-widgets/controls",
     "model_module_version": "1.5.0",
     "model_name": "DescriptionStyleModel",
     "state": {
      "_model_module": "@jupyter-widgets/controls",
      "_model_module_version": "1.5.0",
      "_model_name": "DescriptionStyleModel",
      "_view_count": null,
      "_view_module": "@jupyter-widgets/base",
      "_view_module_version": "1.2.0",
      "_view_name": "StyleView",
      "description_width": ""
     }
    },
    "e6cb1ed7112b42bf946844090c8f1df2": {
     "model_module": "@jupyter-widgets/controls",
     "model_module_version": "1.5.0",
     "model_name": "ButtonModel",
     "state": {
      "_dom_classes": [],
      "_model_module": "@jupyter-widgets/controls",
      "_model_module_version": "1.5.0",
      "_model_name": "ButtonModel",
      "_view_count": null,
      "_view_module": "@jupyter-widgets/controls",
      "_view_module_version": "1.5.0",
      "_view_name": "ButtonView",
      "button_style": "",
      "description": "Download",
      "disabled": false,
      "icon": "",
      "layout": "IPY_MODEL_d0d17db6982f452391d3413ec100ba0b",
      "style": "IPY_MODEL_d29706e87ca845029934ac156bc4a56e",
      "tooltip": ""
     }
    },
    "eb70e7384a2a4e48995a22e7ec76c2cf": {
     "model_module": "@jupyter-widgets/controls",
     "model_module_version": "1.5.0",
     "model_name": "CheckboxModel",
     "state": {
      "_dom_classes": [],
      "_model_module": "@jupyter-widgets/controls",
      "_model_module_version": "1.5.0",
      "_model_name": "CheckboxModel",
      "_view_count": null,
      "_view_module": "@jupyter-widgets/controls",
      "_view_module_version": "1.5.0",
      "_view_name": "CheckboxView",
      "description": "[CSI4116] Intro to Computer Vision - Lecture 13 동영상",
      "description_tooltip": null,
      "disabled": false,
      "indent": false,
      "layout": "IPY_MODEL_c9f334313e334a43b5e366c4d2387740",
      "style": "IPY_MODEL_9475e11e600b4b05be9c27fafe56d2ad",
      "value": false
     }
    },
    "ebffe75cafeb44f79e5194a257fe8f75": {
     "model_module": "@jupyter-widgets/controls",
     "model_module_version": "1.5.0",
     "model_name": "CheckboxModel",
     "state": {
      "_dom_classes": [],
      "_model_module": "@jupyter-widgets/controls",
      "_model_module_version": "1.5.0",
      "_model_name": "CheckboxModel",
      "_view_count": null,
      "_view_module": "@jupyter-widgets/controls",
      "_view_module_version": "1.5.0",
      "_view_name": "CheckboxView",
      "description": "[CSI4116] Intro to Computer Vision - Lecture 23 동영상",
      "description_tooltip": null,
      "disabled": false,
      "indent": false,
      "layout": "IPY_MODEL_c9f334313e334a43b5e366c4d2387740",
      "style": "IPY_MODEL_82ce0f829c0c4f8581165cffb73e6099",
      "value": false
     }
    },
    "ef78970b8c904d94aafab86201a591da": {
     "model_module": "@jupyter-widgets/controls",
     "model_module_version": "1.5.0",
     "model_name": "DescriptionStyleModel",
     "state": {
      "_model_module": "@jupyter-widgets/controls",
      "_model_module_version": "1.5.0",
      "_model_name": "DescriptionStyleModel",
      "_view_count": null,
      "_view_module": "@jupyter-widgets/base",
      "_view_module_version": "1.2.0",
      "_view_name": "StyleView",
      "description_width": ""
     }
    },
    "f23ef5faf07d423cbff9ad72789068aa": {
     "model_module": "@jupyter-widgets/controls",
     "model_module_version": "1.5.0",
     "model_name": "DescriptionStyleModel",
     "state": {
      "_model_module": "@jupyter-widgets/controls",
      "_model_module_version": "1.5.0",
      "_model_name": "DescriptionStyleModel",
      "_view_count": null,
      "_view_module": "@jupyter-widgets/base",
      "_view_module_version": "1.2.0",
      "_view_name": "StyleView",
      "description_width": ""
     }
    },
    "f25cdd8ebeca4655aa8b4749cbe1ece6": {
     "model_module": "@jupyter-widgets/controls",
     "model_module_version": "1.5.0",
     "model_name": "DescriptionStyleModel",
     "state": {
      "_model_module": "@jupyter-widgets/controls",
      "_model_module_version": "1.5.0",
      "_model_name": "DescriptionStyleModel",
      "_view_count": null,
      "_view_module": "@jupyter-widgets/base",
      "_view_module_version": "1.2.0",
      "_view_name": "StyleView",
      "description_width": ""
     }
    },
    "f616115247f04973b094ac8c368a25bc": {
     "model_module": "@jupyter-widgets/controls",
     "model_module_version": "1.5.0",
     "model_name": "CheckboxModel",
     "state": {
      "_dom_classes": [],
      "_model_module": "@jupyter-widgets/controls",
      "_model_module_version": "1.5.0",
      "_model_name": "CheckboxModel",
      "_view_count": null,
      "_view_module": "@jupyter-widgets/controls",
      "_view_module_version": "1.5.0",
      "_view_name": "CheckboxView",
      "description": "[CSI4116] Intro to Computer Vision - Lecture 3 동영상",
      "description_tooltip": null,
      "disabled": false,
      "indent": false,
      "layout": "IPY_MODEL_c9f334313e334a43b5e366c4d2387740",
      "style": "IPY_MODEL_045a657ab8c943649e0fd698e68ccca2",
      "value": false
     }
    }
   }
  }
 },
 "nbformat": 4,
 "nbformat_minor": 0
}
